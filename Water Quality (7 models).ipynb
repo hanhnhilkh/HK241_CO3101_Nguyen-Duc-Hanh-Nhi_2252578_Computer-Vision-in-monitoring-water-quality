{
  "metadata": {
    "kernelspec": {
      "language": "python",
      "display_name": "Python 3",
      "name": "python3"
    },
    "language_info": {
      "pygments_lexer": "ipython3",
      "nbconvert_exporter": "python",
      "version": "3.6.4",
      "file_extension": ".py",
      "codemirror_mode": {
        "name": "ipython",
        "version": 3
      },
      "name": "python",
      "mimetype": "text/x-python"
    },
    "kaggle": {
      "accelerator": "none",
      "dataSources": [
        {
          "sourceId": 2157486,
          "sourceType": "datasetVersion",
          "datasetId": 1292407
        }
      ],
      "dockerImageVersionId": 30120,
      "isInternetEnabled": false,
      "language": "python",
      "sourceType": "notebook",
      "isGpuEnabled": false
    },
    "colab": {
      "name": "notebook49d2b521b6",
      "provenance": [],
      "include_colab_link": true
    }
  },
  "nbformat_minor": 0,
  "nbformat": 4,
  "cells": [
    {
      "cell_type": "markdown",
      "metadata": {
        "id": "view-in-github",
        "colab_type": "text"
      },
      "source": [
        "<a href=\"https://colab.research.google.com/github/hanhnhilkh/Water-Quality-Potable-7-Models-/blob/main/Water%20Quality%20(7%20models).ipynb\" target=\"_parent\"><img src=\"https://colab.research.google.com/assets/colab-badge.svg\" alt=\"Open In Colab\"/></a>"
      ]
    },
    {
      "source": [
        "# IMPORTANT: RUN THIS CELL IN ORDER TO IMPORT YOUR KAGGLE DATA SOURCES,\n",
        "# THEN FEEL FREE TO DELETE THIS CELL.\n",
        "# NOTE: THIS NOTEBOOK ENVIRONMENT DIFFERS FROM KAGGLE'S PYTHON\n",
        "# ENVIRONMENT SO THERE MAY BE MISSING LIBRARIES USED BY YOUR\n",
        "# NOTEBOOK.\n",
        "import kagglehub\n",
        "adityakadiwal_water_potability_path = kagglehub.dataset_download('adityakadiwal/water-potability')\n",
        "\n",
        "print('Data source import complete.')\n"
      ],
      "metadata": {
        "id": "jKAiA7xcuZgg"
      },
      "cell_type": "code",
      "outputs": [],
      "execution_count": null
    },
    {
      "cell_type": "code",
      "source": [
        "# This Python 3 environment comes with many helpful analytics libraries installed\n",
        "# It is defined by the kaggle/python Docker image: https://github.com/kaggle/docker-python\n",
        "# For example, here's several helpful packages to load\n",
        "\n",
        "import numpy as np # linear algebra\n",
        "import pandas as pd # data processing, CSV file I/O (e.g. pd.read_csv)\n",
        "\n",
        "# Input data files are available in the read-only \"../input/\" directory\n",
        "# For example, running this (by clicking run or pressing Shift+Enter) will list all files under the input directory\n",
        "\n",
        "import os\n",
        "for dirname, _, filenames in os.walk('/kaggle/input'):\n",
        "    for filename in filenames:\n",
        "        print(os.path.join(dirname, filename))\n",
        "\n",
        "# You can write up to 20GB to the current directory (/kaggle/working/) that gets preserved as output when you create a version using \"Save & Run All\"\n",
        "# You can also write temporary files to /kaggle/temp/, but they won't be saved outside of the current session"
      ],
      "metadata": {
        "_uuid": "8f2839f25d086af736a60e9eeb907d3b93b6e0e5",
        "_cell_guid": "b1076dfc-b9ad-4769-8c92-a6c4dae69d19",
        "execution": {
          "iopub.status.busy": "2021-08-18T08:07:03.644298Z",
          "iopub.execute_input": "2021-08-18T08:07:03.644843Z",
          "iopub.status.idle": "2021-08-18T08:07:03.65707Z",
          "shell.execute_reply.started": "2021-08-18T08:07:03.644811Z",
          "shell.execute_reply": "2021-08-18T08:07:03.65594Z"
        },
        "trusted": true,
        "id": "_kq7tKt6uZgj"
      },
      "outputs": [],
      "execution_count": null
    },
    {
      "cell_type": "markdown",
      "source": [
        "# <center> Water Quality </center>"
      ],
      "metadata": {
        "id": "WaHIw7AEuZgm"
      }
    },
    {
      "cell_type": "markdown",
      "source": [
        "<center> <img src=\"https://media.istockphoto.com/photos/analyzing-samples-picture-id182188515?k=6&m=182188515&s=612x612&w=0&h=Hcjly5YZGs4tFxPmD6Q-hbCKcoGFU-JIPT8qLaYDUOQ=\"> </center>"
      ],
      "metadata": {
        "id": "FTN5hn6euZgp"
      }
    },
    {
      "cell_type": "markdown",
      "source": [
        "## About dataset\n",
        "\n",
        "#### Content\n",
        "The water_potability.csv file contains water quality metrics for 3276 different water bodies.\n",
        "\n",
        "**1. pH value:**\n",
        "PH is an important parameter in evaluating the acid–base balance of water. It is also the indicator of acidic or alkaline condition of water status.\n",
        "WHO has recommended maximum permissible limit of pH from 6.5 to 8.5. The current investigation ranges were 6.52–6.83 which are in the range of WHO standards.\n",
        "\n",
        "**2. Hardness:**\n",
        "Hardness is mainly caused by calcium and magnesium salts. These salts are dissolved from geologic deposits through which water travels. The length of time water is in contact with hardness producing material helps determine how much hardness there is in raw water. Hardness was originally defined as the capacity of water to precipitate soap caused by Calcium and Magnesium.\n",
        "\n",
        "**3. Solids (Total dissolved solids - TDS):**\n",
        "Water has the ability to dissolve a wide range of inorganic and some organic minerals or salts such as potassium, calcium, sodium, bicarbonates, chlorides, magnesium, sulfates etc. These minerals produced un-wanted taste and diluted color in appearance of water. This is the important parameter for the use of water. The water with high TDS value indicates that water is highly mineralized. Desirable limit for TDS is 500 mg/l and maximum limit is 1000 mg/l which prescribed for drinking purpose.\n",
        "\n",
        "**4. Chloramines:**\n",
        "Chlorine and chloramine are the major disinfectants used in public water systems. Chloramines are most commonly formed when ammonia is added to chlorine to treat drinking water. Chlorine levels up to 4 milligrams per liter (mg/L or 4 parts per million (ppm)) are considered safe in drinking water.\n",
        "\n",
        "**5. Sulfate:**\n",
        "Sulfates are naturally occurring substances that are found in minerals, soil, and rocks. They are present in ambient air, groundwater, plants, and food. The principal commercial use of sulfate is in the chemical industry. Sulfate concentration in seawater is about 2,700 milligrams per liter (mg/L). It ranges from 3 to 30 mg/L in most freshwater supplies, although much higher concentrations (1000 mg/L) are found in some geographic locations.\n",
        "\n",
        "**6. Conductivity:**\n",
        "Pure water is not a good conductor of electric current rather’s a good insulator. Increase in ions concentration enhances the electrical conductivity of water. Generally, the amount of dissolved solids in water determines the electrical conductivity. Electrical conductivity (EC) actually measures the ionic process of a solution that enables it to transmit current. According to WHO standards, EC value should not exceeded 400 μS/cm.\n",
        "\n",
        "**7. Organic_carbon:**\n",
        "Total Organic Carbon (TOC) in source waters comes from decaying natural organic matter (NOM) as well as synthetic sources. TOC is a measure of the total amount of carbon in organic compounds in pure water. According to US EPA < 2 mg/L as TOC in treated / drinking water, and < 4 mg/Lit in source water which is use for treatment.\n",
        "\n",
        "**8. Trihalomethanes:**\n",
        "THMs are chemicals which may be found in water treated with chlorine. The concentration of THMs in drinking water varies according to the level of organic material in the water, the amount of chlorine required to treat the water, and the temperature of the water that is being treated. THM levels up to 80 ppm is considered safe in drinking water.\n",
        "\n",
        "**9. Turbidity:**\n",
        "The turbidity of water depends on the quantity of solid matter present in the suspended state. It is a measure of light emitting properties of water and the test is used to indicate the quality of waste discharge with respect to colloidal matter. The mean turbidity value obtained for Wondo Genet Campus (0.98 NTU) is lower than the WHO recommended value of 5.00 NTU.\n",
        "\n",
        "**10. Potability:**\n",
        "Indicates if water is safe for human consumption where 1 means Potable and 0 means Not potable."
      ],
      "metadata": {
        "id": "S2M_HcvhuZgq"
      }
    },
    {
      "cell_type": "code",
      "source": [
        "# It is always consider as a good practice to make a copy of original dataset.\n",
        "\n",
        "main_df = pd.read_csv(\"/kaggle/input/water-potability/water_potability.csv\")\n",
        "df = main_df.copy()"
      ],
      "metadata": {
        "execution": {
          "iopub.status.busy": "2021-08-18T08:07:03.72443Z",
          "iopub.execute_input": "2021-08-18T08:07:03.725072Z",
          "iopub.status.idle": "2021-08-18T08:07:03.745289Z",
          "shell.execute_reply.started": "2021-08-18T08:07:03.725017Z",
          "shell.execute_reply": "2021-08-18T08:07:03.744031Z"
        },
        "trusted": true,
        "id": "NICeOK8TuZgr"
      },
      "outputs": [],
      "execution_count": null
    },
    {
      "cell_type": "code",
      "source": [
        "# Getting top 5 row of the dataset\n",
        "\n",
        "df.head()"
      ],
      "metadata": {
        "execution": {
          "iopub.status.busy": "2021-08-18T08:07:03.834615Z",
          "iopub.execute_input": "2021-08-18T08:07:03.83501Z",
          "iopub.status.idle": "2021-08-18T08:07:03.854893Z",
          "shell.execute_reply.started": "2021-08-18T08:07:03.834978Z",
          "shell.execute_reply": "2021-08-18T08:07:03.853597Z"
        },
        "trusted": true,
        "id": "mcYi57g2uZgt"
      },
      "outputs": [],
      "execution_count": null
    },
    {
      "cell_type": "code",
      "source": [
        "import numpy as np\n",
        "import pandas as pd\n",
        "import seaborn as sns\n",
        "import matplotlib.pyplot as plt\n",
        "%matplotlib inline\n",
        "import plotly.express as px\n",
        "import warnings\n",
        "warnings.filterwarnings('ignore')"
      ],
      "metadata": {
        "execution": {
          "iopub.status.busy": "2021-08-18T08:07:03.910908Z",
          "iopub.execute_input": "2021-08-18T08:07:03.911325Z",
          "iopub.status.idle": "2021-08-18T08:07:03.919023Z",
          "shell.execute_reply.started": "2021-08-18T08:07:03.911288Z",
          "shell.execute_reply": "2021-08-18T08:07:03.917851Z"
        },
        "trusted": true,
        "id": "uWTy_s9-uZgu"
      },
      "outputs": [],
      "execution_count": null
    },
    {
      "cell_type": "markdown",
      "source": [
        "### Following are the list of algorithms that are used in this notebook.\n",
        "\n",
        "|    Algorithm         |\n",
        "| -------------------- |\n",
        "| Logistic Regression  |\n",
        "| Decision Tree|\n",
        "| Random Forest|\n",
        "| XGBoost|\n",
        "| KNeighbours|\n",
        "| SVM|\n",
        "| AdaBoost|"
      ],
      "metadata": {
        "id": "neJrzoF3uZgv"
      }
    },
    {
      "cell_type": "code",
      "source": [
        "print(df.shape)"
      ],
      "metadata": {
        "execution": {
          "iopub.status.busy": "2021-08-18T08:07:04.012517Z",
          "iopub.execute_input": "2021-08-18T08:07:04.013079Z",
          "iopub.status.idle": "2021-08-18T08:07:04.019636Z",
          "shell.execute_reply.started": "2021-08-18T08:07:04.013022Z",
          "shell.execute_reply": "2021-08-18T08:07:04.01851Z"
        },
        "trusted": true,
        "id": "KaF9vWteuZgw"
      },
      "outputs": [],
      "execution_count": null
    },
    {
      "cell_type": "code",
      "source": [
        "print(df.columns)"
      ],
      "metadata": {
        "execution": {
          "iopub.status.busy": "2021-08-18T08:07:04.093859Z",
          "iopub.execute_input": "2021-08-18T08:07:04.094329Z",
          "iopub.status.idle": "2021-08-18T08:07:04.101537Z",
          "shell.execute_reply.started": "2021-08-18T08:07:04.094292Z",
          "shell.execute_reply": "2021-08-18T08:07:04.099999Z"
        },
        "trusted": true,
        "id": "3z8O-J-zuZgx"
      },
      "outputs": [],
      "execution_count": null
    },
    {
      "cell_type": "code",
      "source": [
        "df.describe()"
      ],
      "metadata": {
        "execution": {
          "iopub.status.busy": "2021-08-18T08:07:04.174529Z",
          "iopub.execute_input": "2021-08-18T08:07:04.174914Z",
          "iopub.status.idle": "2021-08-18T08:07:04.228251Z",
          "shell.execute_reply.started": "2021-08-18T08:07:04.174881Z",
          "shell.execute_reply": "2021-08-18T08:07:04.227079Z"
        },
        "trusted": true,
        "id": "Anb5LWk1uZgx"
      },
      "outputs": [],
      "execution_count": null
    },
    {
      "cell_type": "code",
      "source": [
        "df.info()"
      ],
      "metadata": {
        "execution": {
          "iopub.status.busy": "2021-08-18T08:07:04.276991Z",
          "iopub.execute_input": "2021-08-18T08:07:04.277574Z",
          "iopub.status.idle": "2021-08-18T08:07:04.293277Z",
          "shell.execute_reply.started": "2021-08-18T08:07:04.277539Z",
          "shell.execute_reply": "2021-08-18T08:07:04.291964Z"
        },
        "trusted": true,
        "id": "AvMGfTyQuZgy"
      },
      "outputs": [],
      "execution_count": null
    },
    {
      "cell_type": "code",
      "source": [
        "print(df.nunique())"
      ],
      "metadata": {
        "execution": {
          "iopub.status.busy": "2021-08-18T08:07:04.354204Z",
          "iopub.execute_input": "2021-08-18T08:07:04.354618Z",
          "iopub.status.idle": "2021-08-18T08:07:04.367766Z",
          "shell.execute_reply.started": "2021-08-18T08:07:04.354576Z",
          "shell.execute_reply": "2021-08-18T08:07:04.366629Z"
        },
        "trusted": true,
        "id": "WnSj3KcNuZgz"
      },
      "outputs": [],
      "execution_count": null
    },
    {
      "cell_type": "code",
      "source": [
        "print(df.isnull().sum())"
      ],
      "metadata": {
        "execution": {
          "iopub.status.busy": "2021-08-18T08:07:04.458075Z",
          "iopub.execute_input": "2021-08-18T08:07:04.458442Z",
          "iopub.status.idle": "2021-08-18T08:07:04.467298Z",
          "shell.execute_reply.started": "2021-08-18T08:07:04.458408Z",
          "shell.execute_reply": "2021-08-18T08:07:04.465774Z"
        },
        "trusted": true,
        "id": "2WKgVe6SuZgz"
      },
      "outputs": [],
      "execution_count": null
    },
    {
      "cell_type": "code",
      "source": [
        "df.dtypes"
      ],
      "metadata": {
        "execution": {
          "iopub.status.busy": "2021-08-18T08:07:04.533223Z",
          "iopub.execute_input": "2021-08-18T08:07:04.53363Z",
          "iopub.status.idle": "2021-08-18T08:07:04.543199Z",
          "shell.execute_reply.started": "2021-08-18T08:07:04.533594Z",
          "shell.execute_reply": "2021-08-18T08:07:04.541863Z"
        },
        "trusted": true,
        "id": "_N8_sizYuZg0"
      },
      "outputs": [],
      "execution_count": null
    },
    {
      "cell_type": "code",
      "source": [
        "sns.heatmap(df.isnull())"
      ],
      "metadata": {
        "execution": {
          "iopub.status.busy": "2021-08-18T08:07:04.634141Z",
          "iopub.execute_input": "2021-08-18T08:07:04.634527Z",
          "iopub.status.idle": "2021-08-18T08:07:05.13641Z",
          "shell.execute_reply.started": "2021-08-18T08:07:04.63449Z",
          "shell.execute_reply": "2021-08-18T08:07:05.134063Z"
        },
        "trusted": true,
        "id": "ipwbkMWFuZg0"
      },
      "outputs": [],
      "execution_count": null
    },
    {
      "cell_type": "code",
      "source": [
        "plt.figure(figsize=(10, 8))\n",
        "sns.heatmap(df.corr(), annot= True, cmap='coolwarm')"
      ],
      "metadata": {
        "execution": {
          "iopub.status.busy": "2021-08-18T08:07:05.138407Z",
          "iopub.execute_input": "2021-08-18T08:07:05.138863Z",
          "iopub.status.idle": "2021-08-18T08:07:06.089977Z",
          "shell.execute_reply.started": "2021-08-18T08:07:05.138823Z",
          "shell.execute_reply": "2021-08-18T08:07:06.088818Z"
        },
        "trusted": true,
        "id": "F0M6hJdUuZg1"
      },
      "outputs": [],
      "execution_count": null
    },
    {
      "cell_type": "code",
      "source": [
        "# Unstacking the correlation matrix to see the values more clearly.\n",
        "corr = df.corr()\n",
        "c1 = corr.abs().unstack()\n",
        "c1.sort_values(ascending = False)[12:24:2]"
      ],
      "metadata": {
        "execution": {
          "iopub.status.busy": "2021-08-18T08:07:06.092714Z",
          "iopub.execute_input": "2021-08-18T08:07:06.093166Z",
          "iopub.status.idle": "2021-08-18T08:07:06.107326Z",
          "shell.execute_reply.started": "2021-08-18T08:07:06.09312Z",
          "shell.execute_reply": "2021-08-18T08:07:06.106173Z"
        },
        "trusted": true,
        "id": "MBhGpo6puZg1"
      },
      "outputs": [],
      "execution_count": null
    },
    {
      "cell_type": "code",
      "source": [
        "ax = sns.countplot(x = \"Potability\",data= df, saturation=0.8)\n",
        "plt.xticks(ticks=[0, 1], labels = [\"Not Potable\", \"Potable\"])\n",
        "plt.show()"
      ],
      "metadata": {
        "execution": {
          "iopub.status.busy": "2021-08-18T08:07:06.108947Z",
          "iopub.execute_input": "2021-08-18T08:07:06.109312Z",
          "iopub.status.idle": "2021-08-18T08:07:06.247868Z",
          "shell.execute_reply.started": "2021-08-18T08:07:06.109253Z",
          "shell.execute_reply": "2021-08-18T08:07:06.247141Z"
        },
        "trusted": true,
        "id": "nOhIpayeuZg2"
      },
      "outputs": [],
      "execution_count": null
    },
    {
      "cell_type": "code",
      "source": [
        "x = df.Potability.value_counts()\n",
        "labels = [0,1]\n",
        "print(x)"
      ],
      "metadata": {
        "execution": {
          "iopub.status.busy": "2021-08-18T08:07:06.248911Z",
          "iopub.execute_input": "2021-08-18T08:07:06.249333Z",
          "iopub.status.idle": "2021-08-18T08:07:06.256159Z",
          "shell.execute_reply.started": "2021-08-18T08:07:06.249303Z",
          "shell.execute_reply": "2021-08-18T08:07:06.254878Z"
        },
        "trusted": true,
        "id": "b8fvC9vCuZg2"
      },
      "outputs": [],
      "execution_count": null
    },
    {
      "cell_type": "code",
      "source": [
        "sns.violinplot(x='Potability', y='ph', data=df, palette='rocket')"
      ],
      "metadata": {
        "execution": {
          "iopub.status.busy": "2021-08-18T08:07:06.257562Z",
          "iopub.execute_input": "2021-08-18T08:07:06.257934Z",
          "iopub.status.idle": "2021-08-18T08:07:06.482166Z",
          "shell.execute_reply.started": "2021-08-18T08:07:06.257897Z",
          "shell.execute_reply": "2021-08-18T08:07:06.480519Z"
        },
        "trusted": true,
        "id": "KSTSHwgxuZg2"
      },
      "outputs": [],
      "execution_count": null
    },
    {
      "cell_type": "code",
      "source": [
        "# Visualizing dataset and also checking for outliers\n",
        "\n",
        "fig, ax = plt.subplots(ncols = 5, nrows = 2, figsize = (20, 10))\n",
        "index = 0\n",
        "ax = ax.flatten()\n",
        "\n",
        "for col, value in df.items():\n",
        "    sns.boxplot(y=col, data=df, ax=ax[index])\n",
        "    index += 1\n",
        "plt.tight_layout(pad = 0.5, w_pad=0.7, h_pad=5.0)"
      ],
      "metadata": {
        "execution": {
          "iopub.status.busy": "2021-08-18T08:07:06.483578Z",
          "iopub.execute_input": "2021-08-18T08:07:06.483899Z",
          "iopub.status.idle": "2021-08-18T08:07:08.073593Z",
          "shell.execute_reply.started": "2021-08-18T08:07:06.483868Z",
          "shell.execute_reply": "2021-08-18T08:07:08.072096Z"
        },
        "trusted": true,
        "id": "WlUgxITnuZg2"
      },
      "outputs": [],
      "execution_count": null
    },
    {
      "cell_type": "code",
      "source": [
        "plt.rcParams['figure.figsize'] = [20,10]\n",
        "df.hist()\n",
        "plt.show()"
      ],
      "metadata": {
        "execution": {
          "iopub.status.busy": "2021-08-18T08:07:08.077039Z",
          "iopub.execute_input": "2021-08-18T08:07:08.077575Z",
          "iopub.status.idle": "2021-08-18T08:07:09.801139Z",
          "shell.execute_reply.started": "2021-08-18T08:07:08.077523Z",
          "shell.execute_reply": "2021-08-18T08:07:09.799507Z"
        },
        "trusted": true,
        "id": "zsUdO7GRuZg3"
      },
      "outputs": [],
      "execution_count": null
    },
    {
      "cell_type": "code",
      "source": [
        "sns.pairplot(df, hue=\"Potability\")"
      ],
      "metadata": {
        "execution": {
          "iopub.status.busy": "2021-08-18T08:07:09.803511Z",
          "iopub.execute_input": "2021-08-18T08:07:09.803853Z",
          "iopub.status.idle": "2021-08-18T08:07:51.975366Z",
          "shell.execute_reply.started": "2021-08-18T08:07:09.803821Z",
          "shell.execute_reply": "2021-08-18T08:07:51.972623Z"
        },
        "trusted": true,
        "id": "OVBIKrmcuZg3"
      },
      "outputs": [],
      "execution_count": null
    },
    {
      "cell_type": "code",
      "source": [
        "plt.rcParams['figure.figsize'] = [7,5]\n",
        "sns.distplot(df['Potability'])"
      ],
      "metadata": {
        "execution": {
          "iopub.status.busy": "2021-08-18T08:07:51.976728Z",
          "iopub.execute_input": "2021-08-18T08:07:51.977248Z",
          "iopub.status.idle": "2021-08-18T08:07:52.223993Z",
          "shell.execute_reply.started": "2021-08-18T08:07:51.977201Z",
          "shell.execute_reply": "2021-08-18T08:07:52.223228Z"
        },
        "trusted": true,
        "id": "YIVnzUiruZg3"
      },
      "outputs": [],
      "execution_count": null
    },
    {
      "cell_type": "code",
      "source": [
        "df.hist(column='ph', by='Potability')"
      ],
      "metadata": {
        "execution": {
          "iopub.status.busy": "2021-08-18T08:07:52.225136Z",
          "iopub.execute_input": "2021-08-18T08:07:52.225534Z",
          "iopub.status.idle": "2021-08-18T08:07:52.552689Z",
          "shell.execute_reply.started": "2021-08-18T08:07:52.225505Z",
          "shell.execute_reply": "2021-08-18T08:07:52.551973Z"
        },
        "trusted": true,
        "id": "uKb14gRQuZg3"
      },
      "outputs": [],
      "execution_count": null
    },
    {
      "cell_type": "code",
      "source": [
        "df.hist(column='Hardness', by='Potability')"
      ],
      "metadata": {
        "execution": {
          "iopub.status.busy": "2021-08-18T08:07:52.553725Z",
          "iopub.execute_input": "2021-08-18T08:07:52.554152Z",
          "iopub.status.idle": "2021-08-18T08:07:52.880948Z",
          "shell.execute_reply.started": "2021-08-18T08:07:52.554107Z",
          "shell.execute_reply": "2021-08-18T08:07:52.880186Z"
        },
        "trusted": true,
        "id": "hs7OZQrwuZg4"
      },
      "outputs": [],
      "execution_count": null
    },
    {
      "cell_type": "code",
      "source": [
        "# Individual box plot for each feature\n",
        "def Box(df):\n",
        "    plt.title(\"Box Plot\")\n",
        "    sns.boxplot(df)\n",
        "    plt.show()\n",
        "Box(df['ph'])"
      ],
      "metadata": {
        "execution": {
          "iopub.status.busy": "2021-08-18T08:07:52.882003Z",
          "iopub.execute_input": "2021-08-18T08:07:52.88245Z",
          "iopub.status.idle": "2021-08-18T08:07:53.007108Z",
          "shell.execute_reply.started": "2021-08-18T08:07:52.882406Z",
          "shell.execute_reply": "2021-08-18T08:07:53.006345Z"
        },
        "trusted": true,
        "id": "fj-hVNUpuZg4"
      },
      "outputs": [],
      "execution_count": null
    },
    {
      "cell_type": "code",
      "source": [
        "sns.histplot(x = \"Hardness\", data=df)"
      ],
      "metadata": {
        "execution": {
          "iopub.status.busy": "2021-08-18T08:07:53.00819Z",
          "iopub.execute_input": "2021-08-18T08:07:53.008598Z",
          "iopub.status.idle": "2021-08-18T08:07:53.295818Z",
          "shell.execute_reply.started": "2021-08-18T08:07:53.008555Z",
          "shell.execute_reply": "2021-08-18T08:07:53.295114Z"
        },
        "trusted": true,
        "id": "MEc0-5TYuZg4"
      },
      "outputs": [],
      "execution_count": null
    },
    {
      "cell_type": "code",
      "source": [
        "df.nunique()"
      ],
      "metadata": {
        "execution": {
          "iopub.status.busy": "2021-08-18T08:07:53.296876Z",
          "iopub.execute_input": "2021-08-18T08:07:53.297221Z",
          "iopub.status.idle": "2021-08-18T08:07:53.31281Z",
          "shell.execute_reply.started": "2021-08-18T08:07:53.297186Z",
          "shell.execute_reply": "2021-08-18T08:07:53.31165Z"
        },
        "trusted": true,
        "id": "Oz0RXvMDuZg5"
      },
      "outputs": [],
      "execution_count": null
    },
    {
      "cell_type": "code",
      "source": [
        "skew_val = df.skew().sort_values(ascending=False)\n",
        "skew_val"
      ],
      "metadata": {
        "execution": {
          "iopub.status.busy": "2021-08-18T08:07:53.313856Z",
          "iopub.execute_input": "2021-08-18T08:07:53.314278Z",
          "iopub.status.idle": "2021-08-18T08:07:53.322862Z",
          "shell.execute_reply.started": "2021-08-18T08:07:53.314246Z",
          "shell.execute_reply": "2021-08-18T08:07:53.322191Z"
        },
        "trusted": true,
        "id": "rxIC8x5_uZg5"
      },
      "outputs": [],
      "execution_count": null
    },
    {
      "cell_type": "markdown",
      "source": [
        "* Using pandas skew function to check the correlation between the values.\n",
        "* Values between 0.5 to  -0.5 will be considered as the normal distribution else will be skewed depending upon the skewness value."
      ],
      "metadata": {
        "execution": {
          "iopub.status.busy": "2021-08-07T18:57:25.821342Z",
          "iopub.execute_input": "2021-08-07T18:57:25.82173Z",
          "iopub.status.idle": "2021-08-07T18:57:25.828103Z",
          "shell.execute_reply.started": "2021-08-07T18:57:25.821693Z",
          "shell.execute_reply": "2021-08-07T18:57:25.826847Z"
        },
        "id": "Pn8XNwuIuZg5"
      }
    },
    {
      "cell_type": "code",
      "source": [
        "fig = px.box(df, x=\"Potability\", y=\"ph\", color=\"Potability\", width=800, height=400)\n",
        "fig.show()"
      ],
      "metadata": {
        "execution": {
          "iopub.status.busy": "2021-08-18T08:07:53.323968Z",
          "iopub.execute_input": "2021-08-18T08:07:53.324406Z",
          "iopub.status.idle": "2021-08-18T08:07:53.417751Z",
          "shell.execute_reply.started": "2021-08-18T08:07:53.324375Z",
          "shell.execute_reply": "2021-08-18T08:07:53.417087Z"
        },
        "trusted": true,
        "id": "eETI99mbuZg6"
      },
      "outputs": [],
      "execution_count": null
    },
    {
      "cell_type": "code",
      "source": [
        "fig = px.box(df, x=\"Potability\", y=\"Hardness\", color=\"Potability\", width=800, height=400)\n",
        "fig.show()"
      ],
      "metadata": {
        "execution": {
          "iopub.status.busy": "2021-08-18T08:07:53.418808Z",
          "iopub.execute_input": "2021-08-18T08:07:53.419225Z",
          "iopub.status.idle": "2021-08-18T08:07:53.504981Z",
          "shell.execute_reply.started": "2021-08-18T08:07:53.419182Z",
          "shell.execute_reply": "2021-08-18T08:07:53.503953Z"
        },
        "trusted": true,
        "id": "j-gt491-uZg6"
      },
      "outputs": [],
      "execution_count": null
    },
    {
      "cell_type": "code",
      "source": [
        "fig = px.histogram (df, x = \"Sulfate\",  facet_row = \"Potability\",  template = 'plotly_dark')\n",
        "fig.show ()"
      ],
      "metadata": {
        "execution": {
          "iopub.status.busy": "2021-08-18T08:07:53.506509Z",
          "iopub.execute_input": "2021-08-18T08:07:53.506911Z",
          "iopub.status.idle": "2021-08-18T08:07:53.614433Z",
          "shell.execute_reply.started": "2021-08-18T08:07:53.506868Z",
          "shell.execute_reply": "2021-08-18T08:07:53.613444Z"
        },
        "trusted": true,
        "id": "isfkh8fHuZg7"
      },
      "outputs": [],
      "execution_count": null
    },
    {
      "cell_type": "code",
      "source": [
        "fig = px.histogram (df, x = \"Trihalomethanes\",  facet_row = \"Potability\",  template = 'plotly_dark')\n",
        "fig.show ()"
      ],
      "metadata": {
        "execution": {
          "iopub.status.busy": "2021-08-18T08:07:53.61587Z",
          "iopub.execute_input": "2021-08-18T08:07:53.616431Z",
          "iopub.status.idle": "2021-08-18T08:07:53.724309Z",
          "shell.execute_reply.started": "2021-08-18T08:07:53.616386Z",
          "shell.execute_reply": "2021-08-18T08:07:53.723546Z"
        },
        "trusted": true,
        "id": "yABzfA86uZg7"
      },
      "outputs": [],
      "execution_count": null
    },
    {
      "cell_type": "code",
      "source": [
        "fig =  px.pie (df, names = \"Potability\", hole = 0.4, template = \"plotly_dark\")\n",
        "fig.show ()"
      ],
      "metadata": {
        "execution": {
          "iopub.status.busy": "2021-08-18T08:07:53.725381Z",
          "iopub.execute_input": "2021-08-18T08:07:53.72578Z",
          "iopub.status.idle": "2021-08-18T08:07:53.777285Z",
          "shell.execute_reply.started": "2021-08-18T08:07:53.725749Z",
          "shell.execute_reply": "2021-08-18T08:07:53.776527Z"
        },
        "trusted": true,
        "id": "fiLOW4NXuZg7"
      },
      "outputs": [],
      "execution_count": null
    },
    {
      "cell_type": "code",
      "source": [
        "fig = px.scatter (df, x = \"ph\", y = \"Sulfate\", color = \"Potability\", template = \"plotly_dark\",  trendline=\"ols\")\n",
        "fig.show ()"
      ],
      "metadata": {
        "execution": {
          "iopub.status.busy": "2021-08-18T08:07:53.778274Z",
          "iopub.execute_input": "2021-08-18T08:07:53.778655Z",
          "iopub.status.idle": "2021-08-18T08:07:53.891927Z",
          "shell.execute_reply.started": "2021-08-18T08:07:53.778626Z",
          "shell.execute_reply": "2021-08-18T08:07:53.891202Z"
        },
        "trusted": true,
        "id": "d5jh637UuZg7"
      },
      "outputs": [],
      "execution_count": null
    },
    {
      "cell_type": "code",
      "source": [
        "fig = px.scatter (df, x = \"Organic_carbon\", y = \"Hardness\", color = \"Potability\", template = \"plotly_dark\",  trendline=\"lowess\")\n",
        "fig.show ()"
      ],
      "metadata": {
        "execution": {
          "iopub.status.busy": "2021-08-18T08:07:53.895993Z",
          "iopub.execute_input": "2021-08-18T08:07:53.896402Z",
          "iopub.status.idle": "2021-08-18T08:07:55.176259Z",
          "shell.execute_reply.started": "2021-08-18T08:07:53.896372Z",
          "shell.execute_reply": "2021-08-18T08:07:55.175231Z"
        },
        "trusted": true,
        "id": "kfOpUTFyuZhI"
      },
      "outputs": [],
      "execution_count": null
    },
    {
      "cell_type": "code",
      "source": [
        "df.isnull().mean().plot.bar(figsize=(10,6))\n",
        "plt.ylabel('Percentage of missing values')\n",
        "plt.xlabel('Features')\n",
        "plt.title('Missing Data in Percentages');"
      ],
      "metadata": {
        "execution": {
          "iopub.status.busy": "2021-08-18T08:07:55.178648Z",
          "iopub.execute_input": "2021-08-18T08:07:55.178975Z",
          "iopub.status.idle": "2021-08-18T08:07:55.407357Z",
          "shell.execute_reply.started": "2021-08-18T08:07:55.178944Z",
          "shell.execute_reply": "2021-08-18T08:07:55.406408Z"
        },
        "trusted": true,
        "id": "L31g4TSxuZhJ"
      },
      "outputs": [],
      "execution_count": null
    },
    {
      "cell_type": "code",
      "source": [
        "df['ph'] = df['ph'].fillna(df['ph'].mean())\n",
        "df['Sulfate'] = df['Sulfate'].fillna(df['Sulfate'].mean())\n",
        "df['Trihalomethanes'] = df['Trihalomethanes'].fillna(df['Trihalomethanes'].mean())"
      ],
      "metadata": {
        "execution": {
          "iopub.status.busy": "2021-08-18T08:07:55.408757Z",
          "iopub.execute_input": "2021-08-18T08:07:55.409059Z",
          "iopub.status.idle": "2021-08-18T08:07:55.415838Z",
          "shell.execute_reply.started": "2021-08-18T08:07:55.409019Z",
          "shell.execute_reply": "2021-08-18T08:07:55.414951Z"
        },
        "trusted": true,
        "id": "jHHDPjdouZhJ"
      },
      "outputs": [],
      "execution_count": null
    },
    {
      "cell_type": "code",
      "source": [
        "df.head()"
      ],
      "metadata": {
        "execution": {
          "iopub.status.busy": "2021-08-18T08:07:55.416995Z",
          "iopub.execute_input": "2021-08-18T08:07:55.417314Z",
          "iopub.status.idle": "2021-08-18T08:07:55.444837Z",
          "shell.execute_reply.started": "2021-08-18T08:07:55.417285Z",
          "shell.execute_reply": "2021-08-18T08:07:55.443806Z"
        },
        "trusted": true,
        "id": "8y3eVgaIuZhK"
      },
      "outputs": [],
      "execution_count": null
    },
    {
      "cell_type": "code",
      "source": [
        "sns.heatmap(df.isnull())"
      ],
      "metadata": {
        "execution": {
          "iopub.status.busy": "2021-08-18T08:07:55.44608Z",
          "iopub.execute_input": "2021-08-18T08:07:55.44649Z",
          "iopub.status.idle": "2021-08-18T08:07:56.027915Z",
          "shell.execute_reply.started": "2021-08-18T08:07:55.446449Z",
          "shell.execute_reply": "2021-08-18T08:07:56.026951Z"
        },
        "trusted": true,
        "id": "kPJt83MGuZhK"
      },
      "outputs": [],
      "execution_count": null
    },
    {
      "cell_type": "code",
      "source": [
        "df.isnull().sum()"
      ],
      "metadata": {
        "execution": {
          "iopub.status.busy": "2021-08-18T08:07:56.029282Z",
          "iopub.execute_input": "2021-08-18T08:07:56.029569Z",
          "iopub.status.idle": "2021-08-18T08:07:56.040589Z",
          "shell.execute_reply.started": "2021-08-18T08:07:56.02953Z",
          "shell.execute_reply": "2021-08-18T08:07:56.039671Z"
        },
        "trusted": true,
        "id": "sMrM9pmluZhK"
      },
      "outputs": [],
      "execution_count": null
    },
    {
      "cell_type": "code",
      "source": [
        "X = df.drop('Potability', axis=1)\n",
        "y = df['Potability']"
      ],
      "metadata": {
        "execution": {
          "iopub.status.busy": "2021-08-18T08:07:56.041828Z",
          "iopub.execute_input": "2021-08-18T08:07:56.042147Z",
          "iopub.status.idle": "2021-08-18T08:07:56.055425Z",
          "shell.execute_reply.started": "2021-08-18T08:07:56.042114Z",
          "shell.execute_reply": "2021-08-18T08:07:56.054699Z"
        },
        "trusted": true,
        "id": "WrO1ZJ6SuZhK"
      },
      "outputs": [],
      "execution_count": null
    },
    {
      "cell_type": "code",
      "source": [
        "X.shape, y.shape"
      ],
      "metadata": {
        "execution": {
          "iopub.status.busy": "2021-08-18T08:07:56.0569Z",
          "iopub.execute_input": "2021-08-18T08:07:56.057349Z",
          "iopub.status.idle": "2021-08-18T08:07:56.072184Z",
          "shell.execute_reply.started": "2021-08-18T08:07:56.057299Z",
          "shell.execute_reply": "2021-08-18T08:07:56.071099Z"
        },
        "trusted": true,
        "id": "_HrBsQqwuZhK"
      },
      "outputs": [],
      "execution_count": null
    },
    {
      "cell_type": "code",
      "source": [
        "# import StandardScaler to perform scaling\n",
        "from sklearn.preprocessing import StandardScaler\n",
        "scaler = StandardScaler()"
      ],
      "metadata": {
        "execution": {
          "iopub.status.busy": "2021-08-18T08:07:56.073486Z",
          "iopub.execute_input": "2021-08-18T08:07:56.073867Z",
          "iopub.status.idle": "2021-08-18T08:07:56.08525Z",
          "shell.execute_reply.started": "2021-08-18T08:07:56.073835Z",
          "shell.execute_reply": "2021-08-18T08:07:56.084254Z"
        },
        "trusted": true,
        "id": "CJoG5Me4uZhL"
      },
      "outputs": [],
      "execution_count": null
    },
    {
      "cell_type": "code",
      "source": [
        "X = scaler.fit_transform(X)\n",
        "X"
      ],
      "metadata": {
        "execution": {
          "iopub.status.busy": "2021-08-18T08:07:56.086554Z",
          "iopub.execute_input": "2021-08-18T08:07:56.086972Z",
          "iopub.status.idle": "2021-08-18T08:07:56.105749Z",
          "shell.execute_reply.started": "2021-08-18T08:07:56.086929Z",
          "shell.execute_reply": "2021-08-18T08:07:56.104735Z"
        },
        "trusted": true,
        "id": "0LlVmuEBuZhL"
      },
      "outputs": [],
      "execution_count": null
    },
    {
      "cell_type": "code",
      "source": [
        "# import train-test split\n",
        "from sklearn.model_selection import train_test_split"
      ],
      "metadata": {
        "execution": {
          "iopub.status.busy": "2021-08-18T08:07:56.107324Z",
          "iopub.execute_input": "2021-08-18T08:07:56.10774Z",
          "iopub.status.idle": "2021-08-18T08:07:56.114244Z",
          "shell.execute_reply.started": "2021-08-18T08:07:56.107682Z",
          "shell.execute_reply": "2021-08-18T08:07:56.113198Z"
        },
        "trusted": true,
        "id": "dsO4qCITuZhL"
      },
      "outputs": [],
      "execution_count": null
    },
    {
      "cell_type": "code",
      "source": [
        "X_train, X_test, y_train, y_test = train_test_split(X, y, test_size=0.33, random_state=42)"
      ],
      "metadata": {
        "execution": {
          "iopub.status.busy": "2021-08-18T08:07:56.115335Z",
          "iopub.execute_input": "2021-08-18T08:07:56.115632Z",
          "iopub.status.idle": "2021-08-18T08:07:56.130563Z",
          "shell.execute_reply.started": "2021-08-18T08:07:56.115604Z",
          "shell.execute_reply": "2021-08-18T08:07:56.129564Z"
        },
        "trusted": true,
        "id": "YAR6ZuP-uZhM"
      },
      "outputs": [],
      "execution_count": null
    },
    {
      "cell_type": "markdown",
      "source": [
        "## Using Logistic Regression"
      ],
      "metadata": {
        "id": "IT1By-pwuZhM"
      }
    },
    {
      "cell_type": "code",
      "source": [
        "from sklearn.linear_model import LogisticRegression\n",
        "from sklearn.metrics import confusion_matrix, accuracy_score, classification_report"
      ],
      "metadata": {
        "execution": {
          "iopub.status.busy": "2021-08-18T08:07:56.131838Z",
          "iopub.execute_input": "2021-08-18T08:07:56.13216Z",
          "iopub.status.idle": "2021-08-18T08:07:56.145617Z",
          "shell.execute_reply.started": "2021-08-18T08:07:56.132128Z",
          "shell.execute_reply": "2021-08-18T08:07:56.144582Z"
        },
        "trusted": true,
        "id": "HkKQ11lCuZhM"
      },
      "outputs": [],
      "execution_count": null
    },
    {
      "cell_type": "code",
      "source": [
        "# Creating model object\n",
        "model_lg = LogisticRegression(max_iter=120,random_state=0, n_jobs=20)"
      ],
      "metadata": {
        "execution": {
          "iopub.status.busy": "2021-08-18T08:07:56.147199Z",
          "iopub.execute_input": "2021-08-18T08:07:56.147629Z",
          "iopub.status.idle": "2021-08-18T08:07:56.160697Z",
          "shell.execute_reply.started": "2021-08-18T08:07:56.147589Z",
          "shell.execute_reply": "2021-08-18T08:07:56.159425Z"
        },
        "trusted": true,
        "id": "EIATJeJQuZhN"
      },
      "outputs": [],
      "execution_count": null
    },
    {
      "cell_type": "code",
      "source": [
        "# Training Model\n",
        "model_lg.fit(X_train, y_train)"
      ],
      "metadata": {
        "execution": {
          "iopub.status.busy": "2021-08-18T08:07:56.161856Z",
          "iopub.execute_input": "2021-08-18T08:07:56.16217Z",
          "iopub.status.idle": "2021-08-18T08:07:59.131259Z",
          "shell.execute_reply.started": "2021-08-18T08:07:56.16214Z",
          "shell.execute_reply": "2021-08-18T08:07:59.130208Z"
        },
        "trusted": true,
        "id": "9L-QsNnguZhO"
      },
      "outputs": [],
      "execution_count": null
    },
    {
      "cell_type": "code",
      "source": [
        "# Making Prediction\n",
        "pred_lg = model_lg.predict(X_test)"
      ],
      "metadata": {
        "execution": {
          "iopub.status.busy": "2021-08-18T08:07:59.13291Z",
          "iopub.execute_input": "2021-08-18T08:07:59.133501Z",
          "iopub.status.idle": "2021-08-18T08:07:59.145659Z",
          "shell.execute_reply.started": "2021-08-18T08:07:59.133455Z",
          "shell.execute_reply": "2021-08-18T08:07:59.144678Z"
        },
        "trusted": true,
        "id": "m6SDaCW6uZhO"
      },
      "outputs": [],
      "execution_count": null
    },
    {
      "cell_type": "code",
      "source": [
        "# Calculating Accuracy Score\n",
        "lg = accuracy_score(y_test, pred_lg)\n",
        "print(lg)"
      ],
      "metadata": {
        "execution": {
          "iopub.status.busy": "2021-08-18T08:07:59.14702Z",
          "iopub.execute_input": "2021-08-18T08:07:59.14757Z",
          "iopub.status.idle": "2021-08-18T08:07:59.1575Z",
          "shell.execute_reply.started": "2021-08-18T08:07:59.147529Z",
          "shell.execute_reply": "2021-08-18T08:07:59.156618Z"
        },
        "trusted": true,
        "id": "dz_-3RnmuZhO"
      },
      "outputs": [],
      "execution_count": null
    },
    {
      "cell_type": "code",
      "source": [
        "print(classification_report(y_test,pred_lg))"
      ],
      "metadata": {
        "execution": {
          "iopub.status.busy": "2021-08-18T08:07:59.158842Z",
          "iopub.execute_input": "2021-08-18T08:07:59.159437Z",
          "iopub.status.idle": "2021-08-18T08:07:59.183172Z",
          "shell.execute_reply.started": "2021-08-18T08:07:59.159394Z",
          "shell.execute_reply": "2021-08-18T08:07:59.181993Z"
        },
        "trusted": true,
        "id": "TbQOGBS2uZhP"
      },
      "outputs": [],
      "execution_count": null
    },
    {
      "cell_type": "code",
      "source": [
        "# confusion Maxtrix\n",
        "cm1 = confusion_matrix(y_test, pred_lg)\n",
        "sns.heatmap(cm1/np.sum(cm1), annot = True, fmt=  '0.2%', cmap = 'Reds')"
      ],
      "metadata": {
        "execution": {
          "iopub.status.busy": "2021-08-18T08:07:59.184906Z",
          "iopub.execute_input": "2021-08-18T08:07:59.186866Z",
          "iopub.status.idle": "2021-08-18T08:07:59.511971Z",
          "shell.execute_reply.started": "2021-08-18T08:07:59.186816Z",
          "shell.execute_reply": "2021-08-18T08:07:59.510912Z"
        },
        "trusted": true,
        "id": "ozN4BfOkuZhP"
      },
      "outputs": [],
      "execution_count": null
    },
    {
      "cell_type": "markdown",
      "source": [
        "## Using Decision Tree Classifier"
      ],
      "metadata": {
        "id": "zpoeBekjuZhQ"
      }
    },
    {
      "cell_type": "code",
      "source": [
        "from sklearn.tree import DecisionTreeClassifier"
      ],
      "metadata": {
        "execution": {
          "iopub.status.busy": "2021-08-18T08:07:59.514196Z",
          "iopub.execute_input": "2021-08-18T08:07:59.514638Z",
          "iopub.status.idle": "2021-08-18T08:07:59.519327Z",
          "shell.execute_reply.started": "2021-08-18T08:07:59.514589Z",
          "shell.execute_reply": "2021-08-18T08:07:59.518201Z"
        },
        "trusted": true,
        "id": "OKK0acaVuZhV"
      },
      "outputs": [],
      "execution_count": null
    },
    {
      "cell_type": "code",
      "source": [
        "# Creating model object\n",
        "model_dt = DecisionTreeClassifier( max_depth=4, random_state=42)"
      ],
      "metadata": {
        "execution": {
          "iopub.status.busy": "2021-08-18T08:07:59.520872Z",
          "iopub.execute_input": "2021-08-18T08:07:59.52132Z",
          "iopub.status.idle": "2021-08-18T08:07:59.531628Z",
          "shell.execute_reply.started": "2021-08-18T08:07:59.521279Z",
          "shell.execute_reply": "2021-08-18T08:07:59.530536Z"
        },
        "trusted": true,
        "id": "IkU9uF8ZuZhW"
      },
      "outputs": [],
      "execution_count": null
    },
    {
      "cell_type": "code",
      "source": [
        "# Training Model\n",
        "model_dt.fit(X_train,y_train)"
      ],
      "metadata": {
        "execution": {
          "iopub.status.busy": "2021-08-18T08:07:59.533995Z",
          "iopub.execute_input": "2021-08-18T08:07:59.534374Z",
          "iopub.status.idle": "2021-08-18T08:07:59.558231Z",
          "shell.execute_reply.started": "2021-08-18T08:07:59.534341Z",
          "shell.execute_reply": "2021-08-18T08:07:59.557138Z"
        },
        "trusted": true,
        "id": "UqNfuKfHuZhX"
      },
      "outputs": [],
      "execution_count": null
    },
    {
      "cell_type": "code",
      "source": [
        "# Making Prediction\n",
        "pred_dt = model_dt.predict(X_test)"
      ],
      "metadata": {
        "execution": {
          "iopub.status.busy": "2021-08-18T08:07:59.559777Z",
          "iopub.execute_input": "2021-08-18T08:07:59.560372Z",
          "iopub.status.idle": "2021-08-18T08:07:59.566829Z",
          "shell.execute_reply.started": "2021-08-18T08:07:59.560322Z",
          "shell.execute_reply": "2021-08-18T08:07:59.566091Z"
        },
        "trusted": true,
        "id": "mKR68iXVuZhY"
      },
      "outputs": [],
      "execution_count": null
    },
    {
      "cell_type": "code",
      "source": [
        "# Calculating Accuracy Score\n",
        "dt = accuracy_score(y_test, pred_dt)\n",
        "print(dt)"
      ],
      "metadata": {
        "execution": {
          "iopub.status.busy": "2021-08-18T08:07:59.568028Z",
          "iopub.execute_input": "2021-08-18T08:07:59.568583Z",
          "iopub.status.idle": "2021-08-18T08:07:59.578748Z",
          "shell.execute_reply.started": "2021-08-18T08:07:59.568533Z",
          "shell.execute_reply": "2021-08-18T08:07:59.578025Z"
        },
        "trusted": true,
        "id": "oUhAzbu2uZhY"
      },
      "outputs": [],
      "execution_count": null
    },
    {
      "cell_type": "code",
      "source": [
        "print(classification_report(y_test,pred_dt))"
      ],
      "metadata": {
        "execution": {
          "iopub.status.busy": "2021-08-18T08:07:59.580084Z",
          "iopub.execute_input": "2021-08-18T08:07:59.580676Z",
          "iopub.status.idle": "2021-08-18T08:07:59.603302Z",
          "shell.execute_reply.started": "2021-08-18T08:07:59.580643Z",
          "shell.execute_reply": "2021-08-18T08:07:59.60172Z"
        },
        "trusted": true,
        "id": "oWaW7q7EuZhZ"
      },
      "outputs": [],
      "execution_count": null
    },
    {
      "cell_type": "code",
      "source": [
        "# confusion Maxtrix\n",
        "cm2 = confusion_matrix(y_test, pred_dt)\n",
        "sns.heatmap(cm2/np.sum(cm2), annot = True, fmt=  '0.2%', cmap = 'Reds')"
      ],
      "metadata": {
        "execution": {
          "iopub.status.busy": "2021-08-18T08:07:59.604904Z",
          "iopub.execute_input": "2021-08-18T08:07:59.605411Z",
          "iopub.status.idle": "2021-08-18T08:07:59.86724Z",
          "shell.execute_reply.started": "2021-08-18T08:07:59.605376Z",
          "shell.execute_reply": "2021-08-18T08:07:59.86642Z"
        },
        "trusted": true,
        "id": "KJD0F5dOuZhZ"
      },
      "outputs": [],
      "execution_count": null
    },
    {
      "cell_type": "markdown",
      "source": [
        "## Using Random Forest"
      ],
      "metadata": {
        "id": "9tWmD1M-uZha"
      }
    },
    {
      "cell_type": "code",
      "source": [
        "from sklearn.ensemble import RandomForestClassifier"
      ],
      "metadata": {
        "execution": {
          "iopub.status.busy": "2021-08-18T08:07:59.868269Z",
          "iopub.execute_input": "2021-08-18T08:07:59.868653Z",
          "iopub.status.idle": "2021-08-18T08:07:59.871777Z",
          "shell.execute_reply.started": "2021-08-18T08:07:59.868623Z",
          "shell.execute_reply": "2021-08-18T08:07:59.871039Z"
        },
        "trusted": true,
        "id": "yJXocTNZuZhb"
      },
      "outputs": [],
      "execution_count": null
    },
    {
      "cell_type": "code",
      "source": [
        "# Creating model object\n",
        "model_rf = RandomForestClassifier(n_estimators=300,min_samples_leaf=0.16, random_state=42)"
      ],
      "metadata": {
        "execution": {
          "iopub.status.busy": "2021-08-18T08:07:59.87272Z",
          "iopub.execute_input": "2021-08-18T08:07:59.873144Z",
          "iopub.status.idle": "2021-08-18T08:07:59.888691Z",
          "shell.execute_reply.started": "2021-08-18T08:07:59.873111Z",
          "shell.execute_reply": "2021-08-18T08:07:59.887707Z"
        },
        "trusted": true,
        "id": "t-zCLAcVuZhc"
      },
      "outputs": [],
      "execution_count": null
    },
    {
      "cell_type": "code",
      "source": [
        "# Training Model\n",
        "model_rf.fit(X_train, y_train)"
      ],
      "metadata": {
        "execution": {
          "iopub.status.busy": "2021-08-18T08:07:59.890326Z",
          "iopub.execute_input": "2021-08-18T08:07:59.890624Z",
          "iopub.status.idle": "2021-08-18T08:08:00.764514Z",
          "shell.execute_reply.started": "2021-08-18T08:07:59.890588Z",
          "shell.execute_reply": "2021-08-18T08:08:00.763444Z"
        },
        "trusted": true,
        "id": "WLTSS8sZuZhc"
      },
      "outputs": [],
      "execution_count": null
    },
    {
      "cell_type": "code",
      "source": [
        "# Making Prediction\n",
        "pred_rf = model_rf.predict(X_test)"
      ],
      "metadata": {
        "execution": {
          "iopub.status.busy": "2021-08-18T08:08:00.765953Z",
          "iopub.execute_input": "2021-08-18T08:08:00.766372Z",
          "iopub.status.idle": "2021-08-18T08:08:00.823387Z",
          "shell.execute_reply.started": "2021-08-18T08:08:00.766334Z",
          "shell.execute_reply": "2021-08-18T08:08:00.82212Z"
        },
        "trusted": true,
        "id": "h8K7fMOouZhd"
      },
      "outputs": [],
      "execution_count": null
    },
    {
      "cell_type": "code",
      "source": [
        "# Calculating Accuracy Score\n",
        "rf = accuracy_score(y_test, pred_rf)\n",
        "print(rf)"
      ],
      "metadata": {
        "execution": {
          "iopub.status.busy": "2021-08-18T08:08:00.82473Z",
          "iopub.execute_input": "2021-08-18T08:08:00.82501Z",
          "iopub.status.idle": "2021-08-18T08:08:00.831809Z",
          "shell.execute_reply.started": "2021-08-18T08:08:00.824981Z",
          "shell.execute_reply": "2021-08-18T08:08:00.830533Z"
        },
        "trusted": true,
        "id": "1JC6HGK-uZhe"
      },
      "outputs": [],
      "execution_count": null
    },
    {
      "cell_type": "code",
      "source": [
        "print(classification_report(y_test,pred_rf))"
      ],
      "metadata": {
        "execution": {
          "iopub.status.busy": "2021-08-18T08:08:00.83352Z",
          "iopub.execute_input": "2021-08-18T08:08:00.83394Z",
          "iopub.status.idle": "2021-08-18T08:08:00.853439Z",
          "shell.execute_reply.started": "2021-08-18T08:08:00.833897Z",
          "shell.execute_reply": "2021-08-18T08:08:00.852111Z"
        },
        "trusted": true,
        "id": "kf0_3_XPuZhe"
      },
      "outputs": [],
      "execution_count": null
    },
    {
      "cell_type": "code",
      "source": [
        "# confusion Maxtrix\n",
        "cm3 = confusion_matrix(y_test, pred_rf)\n",
        "sns.heatmap(cm3/np.sum(cm3), annot = True, fmt=  '0.2%', cmap = 'Reds')"
      ],
      "metadata": {
        "execution": {
          "iopub.status.busy": "2021-08-18T08:08:00.855248Z",
          "iopub.execute_input": "2021-08-18T08:08:00.855698Z",
          "iopub.status.idle": "2021-08-18T08:08:01.129964Z",
          "shell.execute_reply.started": "2021-08-18T08:08:00.855655Z",
          "shell.execute_reply": "2021-08-18T08:08:01.128902Z"
        },
        "trusted": true,
        "id": "9y7DJvDkuZhf"
      },
      "outputs": [],
      "execution_count": null
    },
    {
      "cell_type": "markdown",
      "source": [
        "## Using XGBoost Classifier"
      ],
      "metadata": {
        "id": "eBZKswduuZhf"
      }
    },
    {
      "cell_type": "code",
      "source": [
        "from xgboost import XGBClassifier"
      ],
      "metadata": {
        "execution": {
          "iopub.status.busy": "2021-08-18T08:08:01.131567Z",
          "iopub.execute_input": "2021-08-18T08:08:01.132001Z",
          "iopub.status.idle": "2021-08-18T08:08:01.136762Z",
          "shell.execute_reply.started": "2021-08-18T08:08:01.131957Z",
          "shell.execute_reply": "2021-08-18T08:08:01.135549Z"
        },
        "trusted": true,
        "id": "cD0ShgkLuZhf"
      },
      "outputs": [],
      "execution_count": null
    },
    {
      "cell_type": "code",
      "source": [
        "# Creating model object\n",
        "model_xgb = XGBClassifier(max_depth= 8, n_estimators= 125, random_state= 0,  learning_rate= 0.03, n_jobs=5)"
      ],
      "metadata": {
        "execution": {
          "iopub.status.busy": "2021-08-18T08:08:01.137946Z",
          "iopub.execute_input": "2021-08-18T08:08:01.138284Z",
          "iopub.status.idle": "2021-08-18T08:08:01.15481Z",
          "shell.execute_reply.started": "2021-08-18T08:08:01.138255Z",
          "shell.execute_reply": "2021-08-18T08:08:01.153693Z"
        },
        "trusted": true,
        "id": "98NBOYCJuZhg"
      },
      "outputs": [],
      "execution_count": null
    },
    {
      "cell_type": "code",
      "source": [
        "# Training Model\n",
        "model_xgb.fit(X_train, y_train)"
      ],
      "metadata": {
        "execution": {
          "iopub.status.busy": "2021-08-18T08:08:01.156458Z",
          "iopub.execute_input": "2021-08-18T08:08:01.156944Z",
          "iopub.status.idle": "2021-08-18T08:08:02.186831Z",
          "shell.execute_reply.started": "2021-08-18T08:08:01.156896Z",
          "shell.execute_reply": "2021-08-18T08:08:02.185649Z"
        },
        "trusted": true,
        "id": "oSvYRFYmuZhh"
      },
      "outputs": [],
      "execution_count": null
    },
    {
      "cell_type": "code",
      "source": [
        "# Making Prediction\n",
        "pred_xgb = model_xgb.predict(X_test)"
      ],
      "metadata": {
        "execution": {
          "iopub.status.busy": "2021-08-18T08:08:02.188133Z",
          "iopub.execute_input": "2021-08-18T08:08:02.18869Z",
          "iopub.status.idle": "2021-08-18T08:08:02.201584Z",
          "shell.execute_reply.started": "2021-08-18T08:08:02.188642Z",
          "shell.execute_reply": "2021-08-18T08:08:02.199547Z"
        },
        "trusted": true,
        "id": "3x_Bf0pYuZhi"
      },
      "outputs": [],
      "execution_count": null
    },
    {
      "cell_type": "code",
      "source": [
        "# Calculating Accuracy Score\n",
        "xgb = accuracy_score(y_test, pred_xgb)\n",
        "print(xgb)"
      ],
      "metadata": {
        "execution": {
          "iopub.status.busy": "2021-08-18T08:08:02.204212Z",
          "iopub.execute_input": "2021-08-18T08:08:02.204902Z",
          "iopub.status.idle": "2021-08-18T08:08:02.21632Z",
          "shell.execute_reply.started": "2021-08-18T08:08:02.204852Z",
          "shell.execute_reply": "2021-08-18T08:08:02.215223Z"
        },
        "trusted": true,
        "id": "lflwO-QOuZhi"
      },
      "outputs": [],
      "execution_count": null
    },
    {
      "cell_type": "code",
      "source": [
        "print(classification_report(y_test,pred_xgb))"
      ],
      "metadata": {
        "execution": {
          "iopub.status.busy": "2021-08-18T08:08:02.217909Z",
          "iopub.execute_input": "2021-08-18T08:08:02.218271Z",
          "iopub.status.idle": "2021-08-18T08:08:02.238633Z",
          "shell.execute_reply.started": "2021-08-18T08:08:02.218237Z",
          "shell.execute_reply": "2021-08-18T08:08:02.237241Z"
        },
        "trusted": true,
        "id": "G-k3YD4MuZhj"
      },
      "outputs": [],
      "execution_count": null
    },
    {
      "cell_type": "code",
      "source": [
        "# confusion Maxtrix\n",
        "cm4 = confusion_matrix(y_test, pred_xgb)\n",
        "sns.heatmap(cm4/np.sum(cm4), annot = True, fmt=  '0.2%', cmap = 'Reds')"
      ],
      "metadata": {
        "execution": {
          "iopub.status.busy": "2021-08-18T08:08:02.240527Z",
          "iopub.execute_input": "2021-08-18T08:08:02.240941Z",
          "iopub.status.idle": "2021-08-18T08:08:02.547786Z",
          "shell.execute_reply.started": "2021-08-18T08:08:02.240892Z",
          "shell.execute_reply": "2021-08-18T08:08:02.546373Z"
        },
        "trusted": true,
        "id": "ZM6wvAMnuZhk"
      },
      "outputs": [],
      "execution_count": null
    },
    {
      "cell_type": "markdown",
      "source": [
        "## Using KNeighbours"
      ],
      "metadata": {
        "id": "pm1pMz-muZhk"
      }
    },
    {
      "cell_type": "code",
      "source": [
        "from sklearn.neighbors import KNeighborsClassifier"
      ],
      "metadata": {
        "execution": {
          "iopub.status.busy": "2021-08-18T08:08:02.549861Z",
          "iopub.execute_input": "2021-08-18T08:08:02.550381Z",
          "iopub.status.idle": "2021-08-18T08:08:02.55611Z",
          "shell.execute_reply.started": "2021-08-18T08:08:02.550334Z",
          "shell.execute_reply": "2021-08-18T08:08:02.553978Z"
        },
        "trusted": true,
        "id": "0q0BNkFRuZhk"
      },
      "outputs": [],
      "execution_count": null
    },
    {
      "cell_type": "code",
      "source": [
        "# Creating model object\n",
        "model_kn = KNeighborsClassifier(n_neighbors=9, leaf_size=20)"
      ],
      "metadata": {
        "execution": {
          "iopub.status.busy": "2021-08-18T08:08:02.558193Z",
          "iopub.execute_input": "2021-08-18T08:08:02.558914Z",
          "iopub.status.idle": "2021-08-18T08:08:02.572656Z",
          "shell.execute_reply.started": "2021-08-18T08:08:02.558844Z",
          "shell.execute_reply": "2021-08-18T08:08:02.571802Z"
        },
        "trusted": true,
        "id": "_pf5m5zruZhl"
      },
      "outputs": [],
      "execution_count": null
    },
    {
      "cell_type": "code",
      "source": [
        "# Training Model\n",
        "model_kn.fit(X_train, y_train)"
      ],
      "metadata": {
        "execution": {
          "iopub.status.busy": "2021-08-18T08:08:02.574296Z",
          "iopub.execute_input": "2021-08-18T08:08:02.575508Z",
          "iopub.status.idle": "2021-08-18T08:08:02.598944Z",
          "shell.execute_reply.started": "2021-08-18T08:08:02.575429Z",
          "shell.execute_reply": "2021-08-18T08:08:02.597348Z"
        },
        "trusted": true,
        "id": "QG66cDJCuZhl"
      },
      "outputs": [],
      "execution_count": null
    },
    {
      "cell_type": "code",
      "source": [
        "# Making Prediction\n",
        "pred_kn = model_kn.predict(X_test)"
      ],
      "metadata": {
        "execution": {
          "iopub.status.busy": "2021-08-18T08:08:02.601148Z",
          "iopub.execute_input": "2021-08-18T08:08:02.601671Z",
          "iopub.status.idle": "2021-08-18T08:08:02.702561Z",
          "shell.execute_reply.started": "2021-08-18T08:08:02.601618Z",
          "shell.execute_reply": "2021-08-18T08:08:02.70146Z"
        },
        "trusted": true,
        "id": "gy86QvbyuZhm"
      },
      "outputs": [],
      "execution_count": null
    },
    {
      "cell_type": "code",
      "source": [
        "# Calculating Accuracy Score\n",
        "kn = accuracy_score(y_test, pred_kn)\n",
        "print(kn)"
      ],
      "metadata": {
        "execution": {
          "iopub.status.busy": "2021-08-18T08:08:02.704314Z",
          "iopub.execute_input": "2021-08-18T08:08:02.704822Z",
          "iopub.status.idle": "2021-08-18T08:08:02.711901Z",
          "shell.execute_reply.started": "2021-08-18T08:08:02.704754Z",
          "shell.execute_reply": "2021-08-18T08:08:02.710765Z"
        },
        "trusted": true,
        "id": "apF2qSz7uZhn"
      },
      "outputs": [],
      "execution_count": null
    },
    {
      "cell_type": "code",
      "source": [
        "print(classification_report(y_test,pred_kn))"
      ],
      "metadata": {
        "execution": {
          "iopub.status.busy": "2021-08-18T08:08:02.720335Z",
          "iopub.execute_input": "2021-08-18T08:08:02.720825Z",
          "iopub.status.idle": "2021-08-18T08:08:02.734342Z",
          "shell.execute_reply.started": "2021-08-18T08:08:02.720785Z",
          "shell.execute_reply": "2021-08-18T08:08:02.733111Z"
        },
        "trusted": true,
        "id": "W8obYMT8uZhn"
      },
      "outputs": [],
      "execution_count": null
    },
    {
      "cell_type": "code",
      "source": [
        "# confusion Maxtrix\n",
        "cm5 = confusion_matrix(y_test, pred_kn)\n",
        "sns.heatmap(cm5/np.sum(cm5), annot = True, fmt=  '0.2%', cmap = 'Reds')"
      ],
      "metadata": {
        "execution": {
          "iopub.status.busy": "2021-08-18T08:08:02.736183Z",
          "iopub.execute_input": "2021-08-18T08:08:02.736522Z",
          "iopub.status.idle": "2021-08-18T08:08:03.053644Z",
          "shell.execute_reply.started": "2021-08-18T08:08:02.736477Z",
          "shell.execute_reply": "2021-08-18T08:08:03.052433Z"
        },
        "trusted": true,
        "id": "PwAye8WbuZhn"
      },
      "outputs": [],
      "execution_count": null
    },
    {
      "cell_type": "markdown",
      "source": [
        "## Using SVM"
      ],
      "metadata": {
        "id": "_jwqSY95uZho"
      }
    },
    {
      "cell_type": "code",
      "source": [
        "from sklearn.svm import SVC, LinearSVC"
      ],
      "metadata": {
        "execution": {
          "iopub.status.busy": "2021-08-18T08:08:03.055302Z",
          "iopub.execute_input": "2021-08-18T08:08:03.056015Z",
          "iopub.status.idle": "2021-08-18T08:08:03.060825Z",
          "shell.execute_reply.started": "2021-08-18T08:08:03.05594Z",
          "shell.execute_reply": "2021-08-18T08:08:03.059871Z"
        },
        "trusted": true,
        "id": "zIjUdc6vuZho"
      },
      "outputs": [],
      "execution_count": null
    },
    {
      "cell_type": "code",
      "source": [
        "model_svm = SVC(kernel='rbf', random_state = 42)"
      ],
      "metadata": {
        "execution": {
          "iopub.status.busy": "2021-08-18T08:08:03.06234Z",
          "iopub.execute_input": "2021-08-18T08:08:03.062866Z",
          "iopub.status.idle": "2021-08-18T08:08:03.077459Z",
          "shell.execute_reply.started": "2021-08-18T08:08:03.062821Z",
          "shell.execute_reply": "2021-08-18T08:08:03.076195Z"
        },
        "trusted": true,
        "id": "mJlXQGcfuZhp"
      },
      "outputs": [],
      "execution_count": null
    },
    {
      "cell_type": "code",
      "source": [
        "model_svm.fit(X_train, y_train)"
      ],
      "metadata": {
        "execution": {
          "iopub.status.busy": "2021-08-18T08:08:03.079204Z",
          "iopub.execute_input": "2021-08-18T08:08:03.079615Z",
          "iopub.status.idle": "2021-08-18T08:08:03.318083Z",
          "shell.execute_reply.started": "2021-08-18T08:08:03.079578Z",
          "shell.execute_reply": "2021-08-18T08:08:03.315796Z"
        },
        "trusted": true,
        "id": "X28hyKUbuZhp"
      },
      "outputs": [],
      "execution_count": null
    },
    {
      "cell_type": "code",
      "source": [
        "# Making Prediction\n",
        "pred_svm = model_svm.predict(X_test)"
      ],
      "metadata": {
        "execution": {
          "iopub.status.busy": "2021-08-18T08:08:03.320423Z",
          "iopub.execute_input": "2021-08-18T08:08:03.320971Z",
          "iopub.status.idle": "2021-08-18T08:08:03.407426Z",
          "shell.execute_reply.started": "2021-08-18T08:08:03.32092Z",
          "shell.execute_reply": "2021-08-18T08:08:03.406206Z"
        },
        "trusted": true,
        "id": "2EO3_K0nuZhp"
      },
      "outputs": [],
      "execution_count": null
    },
    {
      "cell_type": "code",
      "source": [
        "# Calculating Accuracy Score\n",
        "sv = accuracy_score(y_test, pred_svm)\n",
        "print(sv)"
      ],
      "metadata": {
        "execution": {
          "iopub.status.busy": "2021-08-18T08:08:03.408891Z",
          "iopub.execute_input": "2021-08-18T08:08:03.409353Z",
          "iopub.status.idle": "2021-08-18T08:08:03.4191Z",
          "shell.execute_reply.started": "2021-08-18T08:08:03.409313Z",
          "shell.execute_reply": "2021-08-18T08:08:03.417246Z"
        },
        "trusted": true,
        "id": "RQGy2T-EuZhq"
      },
      "outputs": [],
      "execution_count": null
    },
    {
      "cell_type": "code",
      "source": [
        "print(classification_report(y_test,pred_kn))"
      ],
      "metadata": {
        "execution": {
          "iopub.status.busy": "2021-08-18T08:08:03.421346Z",
          "iopub.execute_input": "2021-08-18T08:08:03.421917Z",
          "iopub.status.idle": "2021-08-18T08:08:03.441354Z",
          "shell.execute_reply.started": "2021-08-18T08:08:03.421839Z",
          "shell.execute_reply": "2021-08-18T08:08:03.43972Z"
        },
        "trusted": true,
        "id": "aG67Bhn6uZhq"
      },
      "outputs": [],
      "execution_count": null
    },
    {
      "cell_type": "code",
      "source": [
        "# confusion Maxtrix\n",
        "cm6 = confusion_matrix(y_test, pred_svm)\n",
        "sns.heatmap(cm6/np.sum(cm6), annot = True, fmt=  '0.2%', cmap = 'Reds')"
      ],
      "metadata": {
        "execution": {
          "iopub.status.busy": "2021-08-18T08:08:03.442831Z",
          "iopub.execute_input": "2021-08-18T08:08:03.44333Z",
          "iopub.status.idle": "2021-08-18T08:08:03.749114Z",
          "shell.execute_reply.started": "2021-08-18T08:08:03.443292Z",
          "shell.execute_reply": "2021-08-18T08:08:03.748259Z"
        },
        "trusted": true,
        "id": "65GMMQS9uZhq"
      },
      "outputs": [],
      "execution_count": null
    },
    {
      "cell_type": "code",
      "source": [
        "## Using AdaBoost Classifier"
      ],
      "metadata": {
        "execution": {
          "iopub.status.busy": "2021-08-18T08:08:03.751285Z",
          "iopub.execute_input": "2021-08-18T08:08:03.751748Z",
          "iopub.status.idle": "2021-08-18T08:08:03.758405Z",
          "shell.execute_reply.started": "2021-08-18T08:08:03.7517Z",
          "shell.execute_reply": "2021-08-18T08:08:03.757081Z"
        },
        "trusted": true,
        "id": "sw8tjik1uZhr"
      },
      "outputs": [],
      "execution_count": null
    },
    {
      "cell_type": "code",
      "source": [
        "from sklearn.ensemble import AdaBoostClassifier"
      ],
      "metadata": {
        "execution": {
          "iopub.status.busy": "2021-08-18T08:08:03.760243Z",
          "iopub.execute_input": "2021-08-18T08:08:03.760727Z",
          "iopub.status.idle": "2021-08-18T08:08:03.770797Z",
          "shell.execute_reply.started": "2021-08-18T08:08:03.760672Z",
          "shell.execute_reply": "2021-08-18T08:08:03.769089Z"
        },
        "trusted": true,
        "id": "NC2uCNJcuZhr"
      },
      "outputs": [],
      "execution_count": null
    },
    {
      "cell_type": "code",
      "source": [
        "model_ada = AdaBoostClassifier(learning_rate= 0.002,n_estimators= 205,random_state=42)"
      ],
      "metadata": {
        "execution": {
          "iopub.status.busy": "2021-08-18T08:08:03.772756Z",
          "iopub.execute_input": "2021-08-18T08:08:03.773241Z",
          "iopub.status.idle": "2021-08-18T08:08:03.788132Z",
          "shell.execute_reply.started": "2021-08-18T08:08:03.773196Z",
          "shell.execute_reply": "2021-08-18T08:08:03.786807Z"
        },
        "trusted": true,
        "id": "fTyfiijFuZhr"
      },
      "outputs": [],
      "execution_count": null
    },
    {
      "cell_type": "code",
      "source": [
        "model_ada.fit(X_train, y_train)"
      ],
      "metadata": {
        "execution": {
          "iopub.status.busy": "2021-08-18T08:08:03.789556Z",
          "iopub.execute_input": "2021-08-18T08:08:03.789954Z",
          "iopub.status.idle": "2021-08-18T08:08:04.84507Z",
          "shell.execute_reply.started": "2021-08-18T08:08:03.789912Z",
          "shell.execute_reply": "2021-08-18T08:08:04.843836Z"
        },
        "trusted": true,
        "id": "eK7k9v2auZhr"
      },
      "outputs": [],
      "execution_count": null
    },
    {
      "cell_type": "code",
      "source": [
        "# Making Prediction\n",
        "pred_ada = model_ada.predict(X_test)"
      ],
      "metadata": {
        "execution": {
          "iopub.status.busy": "2021-08-18T08:08:04.846486Z",
          "iopub.execute_input": "2021-08-18T08:08:04.846971Z",
          "iopub.status.idle": "2021-08-18T08:08:04.927239Z",
          "shell.execute_reply.started": "2021-08-18T08:08:04.846931Z",
          "shell.execute_reply": "2021-08-18T08:08:04.92642Z"
        },
        "trusted": true,
        "id": "Y0GMUkvpuZhr"
      },
      "outputs": [],
      "execution_count": null
    },
    {
      "cell_type": "code",
      "source": [
        "# Calculating Accuracy Score\n",
        "ada = accuracy_score(y_test, pred_ada)\n",
        "print(ada)"
      ],
      "metadata": {
        "execution": {
          "iopub.status.busy": "2021-08-18T08:08:04.928291Z",
          "iopub.execute_input": "2021-08-18T08:08:04.928726Z",
          "iopub.status.idle": "2021-08-18T08:08:04.93583Z",
          "shell.execute_reply.started": "2021-08-18T08:08:04.928695Z",
          "shell.execute_reply": "2021-08-18T08:08:04.934504Z"
        },
        "trusted": true,
        "id": "8hHY3_ziuZhs"
      },
      "outputs": [],
      "execution_count": null
    },
    {
      "cell_type": "code",
      "source": [
        "print(classification_report(y_test,pred_ada))"
      ],
      "metadata": {
        "execution": {
          "iopub.status.busy": "2021-08-18T08:08:04.93755Z",
          "iopub.execute_input": "2021-08-18T08:08:04.938109Z",
          "iopub.status.idle": "2021-08-18T08:08:04.959648Z",
          "shell.execute_reply.started": "2021-08-18T08:08:04.938061Z",
          "shell.execute_reply": "2021-08-18T08:08:04.958269Z"
        },
        "trusted": true,
        "id": "Jd7LU0iWuZhs"
      },
      "outputs": [],
      "execution_count": null
    },
    {
      "cell_type": "code",
      "source": [
        "# confusion Maxtrix\n",
        "cm7 = confusion_matrix(y_test, pred_ada)\n",
        "sns.heatmap(cm7/np.sum(cm7), annot = True, fmt=  '0.2%', cmap = 'Reds')"
      ],
      "metadata": {
        "execution": {
          "iopub.status.busy": "2021-08-18T08:08:04.961967Z",
          "iopub.execute_input": "2021-08-18T08:08:04.962442Z",
          "iopub.status.idle": "2021-08-18T08:08:05.253507Z",
          "shell.execute_reply.started": "2021-08-18T08:08:04.962404Z",
          "shell.execute_reply": "2021-08-18T08:08:05.252511Z"
        },
        "trusted": true,
        "id": "R0UN7BFOuZhs"
      },
      "outputs": [],
      "execution_count": null
    },
    {
      "cell_type": "code",
      "source": [
        "models = pd.DataFrame({\n",
        "    'Model':['Logistic Regression', 'Decision Tree', 'Random Forest', 'XGBoost', 'KNeighbours', 'SVM', 'AdaBoost'],\n",
        "    'Accuracy_score' :[lg, dt, rf, xgb, kn, sv, ada]\n",
        "})\n",
        "models\n",
        "sns.barplot(x='Accuracy_score', y='Model', data=models)\n",
        "\n",
        "models.sort_values(by='Accuracy_score', ascending=False)"
      ],
      "metadata": {
        "execution": {
          "iopub.status.busy": "2021-08-18T08:08:05.254699Z",
          "iopub.execute_input": "2021-08-18T08:08:05.255181Z",
          "iopub.status.idle": "2021-08-18T08:08:05.50731Z",
          "shell.execute_reply.started": "2021-08-18T08:08:05.255145Z",
          "shell.execute_reply": "2021-08-18T08:08:05.505924Z"
        },
        "trusted": true,
        "id": "Mk-xjybnuZhs"
      },
      "outputs": [],
      "execution_count": null
    },
    {
      "cell_type": "markdown",
      "source": [
        "#### Conclusion :- Here SVM classifier has achieved highest accuracy."
      ],
      "metadata": {
        "id": "BPkQaUrXuZht"
      }
    }
  ]
}